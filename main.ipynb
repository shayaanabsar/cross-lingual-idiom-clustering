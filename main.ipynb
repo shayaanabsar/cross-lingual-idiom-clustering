{
 "cells": [
  {
   "cell_type": "code",
   "execution_count": 2,
   "metadata": {},
   "outputs": [
    {
     "name": "stderr",
     "output_type": "stream",
     "text": [
      "/home/codespace/.python/current/lib/python3.10/site-packages/tqdm/auto.py:21: TqdmWarning: IProgress not found. Please update jupyter and ipywidgets. See https://ipywidgets.readthedocs.io/en/stable/user_install.html\n",
      "  from .autonotebook import tqdm as notebook_tqdm\n"
     ]
    }
   ],
   "source": [
    "from transformers import AutoTokenizer, AutoModelForMaskedLM\n",
    "from torch import nn\n",
    "import torch\n",
    "import csv"
   ]
  },
  {
   "cell_type": "code",
   "execution_count": 5,
   "metadata": {},
   "outputs": [],
   "source": [
    "# Load dataset and create translation clusters\n",
    "\n",
    "translation_clusters = {}\n",
    "idioms = set()\n",
    "\n",
    "encoder = {}\n",
    "decoder = {}\n",
    "\n",
    "tokenizer = AutoTokenizer.from_pretrained('xlm-roberta-base')\n",
    "\n",
    "with open('dataset.csv') as f:\n",
    "    reader = csv.DictReader(f)\n",
    "\n",
    "    for row in reader:\n",
    "        if row['english'] in translation_clusters:\n",
    "            translation_clusters[row['english']].add(row['german'])\n",
    "        else:\n",
    "            translation_clusters[row['english']] = {row['german']}\n",
    "\n",
    "        if row['german'] in translation_clusters:\n",
    "            translation_clusters[row['german']].add(row['english'])\n",
    "        else:\n",
    "            translation_clusters[row['german']] = {row['english']}\n",
    "\n",
    "        idioms.add(row['english'])\n",
    "        idioms.add(row['german'])\n",
    "\n",
    "max_length = 0\n",
    "\n",
    "for idiom in idioms:\n",
    "    for match in translation_clusters[idiom]:\n",
    "        translation_clusters[idiom] = translation_clusters[idiom].union(translation_clusters[match])\n",
    "    \n",
    "\n",
    "    encoded = tokenizer(idiom, return_tensors='pt').input_ids\n",
    "    max_length = max(max_length, encoded.shape[1])\n",
    "\n",
    "    encoder[idiom] = encoded\n",
    "    decoder[encoded] = idiom\n",
    "\n",
    "assert decoder[encoder['move mountains']] == 'move mountains'\n",
    "\n",
    "num_idioms = len(idioms)\n",
    "\n",
    "idiom_tensor = torch.full(size=(num_idioms, max_length), fill_value=-1)\n",
    "for i, idiom in enumerate(idioms):\n",
    "    encoded = encoder[idiom]\n",
    "    for j in range(encoded.shape[1]):\n",
    "        idiom_tensor[i, j] = encoded[0, j].item()"
   ]
  },
  {
   "cell_type": "code",
   "execution_count": null,
   "metadata": {},
   "outputs": [],
   "source": [
    "EPOCHS = 1000\n",
    "LATENT_DIMENSIONS = 100"
   ]
  },
  {
   "cell_type": "code",
   "execution_count": null,
   "metadata": {},
   "outputs": [],
   "source": [
    "class Model(nn.Module):\n",
    "    def __init__(self):\n",
    "        super().__init__()\n",
    "        self.tokenizer = AutoTokenizer.from_pretrained('xlm-roberta-base')\n",
    "        self.roberta = AutoModelForMaskedLM.from_pretrained('xlm-roberta-base')\n",
    "        self.output_layer = nn.Linear(self.roberta.config.last_hidden_state, LATENT_DIMENSIONS) \n",
    "\n"
   ]
  }
 ],
 "metadata": {
  "kernelspec": {
   "display_name": "Python 3 (ipykernel)",
   "language": "python",
   "name": "python3"
  },
  "language_info": {
   "codemirror_mode": {
    "name": "ipython",
    "version": 3
   },
   "file_extension": ".py",
   "mimetype": "text/x-python",
   "name": "python",
   "nbconvert_exporter": "python",
   "pygments_lexer": "ipython3",
   "version": "3.10.8"
  },
  "orig_nbformat": 4
 },
 "nbformat": 4,
 "nbformat_minor": 2
}
