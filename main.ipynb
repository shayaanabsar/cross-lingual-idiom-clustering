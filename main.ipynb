{
 "cells": [
  {
   "cell_type": "code",
   "execution_count": 14,
   "metadata": {},
   "outputs": [],
   "source": [
    "from transformers import AutoTokenizer, AutoModelForMaskedLM\n",
    "from torch import nn\n",
    "import torch\n",
    "import csv\n",
    "from random import choice\n",
    "from copy import deepcopy"
   ]
  },
  {
   "cell_type": "code",
   "execution_count": 15,
   "metadata": {},
   "outputs": [
    {
     "name": "stdout",
     "output_type": "stream",
     "text": [
      "torch.Size([14673, 24])\n"
     ]
    }
   ],
   "source": [
    "translation_clusters = {}\n",
    "idioms = set()\n",
    "encoder = {}\n",
    "tokenizer = AutoTokenizer.from_pretrained('xlm-roberta-base')\n",
    "\n",
    "# Load data\n",
    "\n",
    "with open('dataset.csv') as f:\n",
    "\treader = csv.DictReader(f)\n",
    "\tfor row in reader:\n",
    "\t\tif row['english'] in translation_clusters:\n",
    "\t\t\ttranslation_clusters[row['english']].add(row['german'])\n",
    "\t\telse:\n",
    "\t\t\ttranslation_clusters[row['english']] = {row['german']}\n",
    "\n",
    "\t\tif row['german'] in translation_clusters:\n",
    "\t\t\ttranslation_clusters[row['german']].add(row['english'])\n",
    "\t\telse:\n",
    "\t\t\ttranslation_clusters[row['german']] = {row['english']}\n",
    "\n",
    "\t\tidioms.add(row['english'])\n",
    "\t\tidioms.add(row['german'])\n",
    "\n",
    "# Form translation clusters\n",
    "\n",
    "max_length = 0\n",
    "\n",
    "for idiom in idioms:\n",
    "\tfor match in translation_clusters[idiom]:\n",
    "\t\ttranslation_clusters[idiom] = translation_clusters[idiom].union(translation_clusters[match])\n",
    "\ttranslation_clusters[idiom].remove(idiom)\n",
    "\n",
    "\tencoded = tokenizer(idiom, return_tensors='pt').input_ids\n",
    "\tmax_length = max(max_length, encoded.shape[1])\n",
    "\n",
    "\tencoder[idiom] = encoded\n",
    "\n",
    "num_idioms = len(idioms)\n",
    "decoder = {}\n",
    "\n",
    "# Generate idiom tensor\n",
    "\n",
    "idiom_tensor = torch.full(size=(num_idioms, max_length), fill_value=-1)\n",
    "for i, idiom in enumerate(idioms):\n",
    "\tencoded = encoder[idiom]\n",
    "\tidiom_tensor[i, :encoded.shape[1]] = encoded[0]\n",
    "\tencoder[idiom] = idiom_tensor[i]\n",
    "\tdecoder[tuple(idiom_tensor[i].tolist())] = idiom\n",
    "\n",
    "assert decoder[tuple(encoder['makes me feel like'].tolist())] == 'makes me feel like'\n",
    "\n",
    "# Convert idiom clusters to tokenized representations\n",
    "\n",
    "for idiom in deepcopy(translation_clusters):\n",
    "\ttranslation_clusters[tuple(encoder[idiom].tolist())] = set()\n",
    "\n",
    "\tfor match in translation_clusters[idiom]:\n",
    "\t\ttranslation_clusters[tuple(encoder[idiom].tolist())].add(tuple(encoder[match].tolist()))\n",
    "\n",
    "\tdel translation_clusters[idiom]\n",
    "\n",
    "print(idiom_tensor.shape)\n"
   ]
  },
  {
   "cell_type": "code",
   "execution_count": 5,
   "metadata": {},
   "outputs": [],
   "source": [
    "train = idiom_tensor[:int(0.9*num_idioms)]\n",
    "test = idiom_tensor[int(0.9*num_idioms):int(0.95*num_idioms)]\n",
    "val = idiom_tensor[int(0.95*num_idioms)]"
   ]
  },
  {
   "cell_type": "code",
   "execution_count": 6,
   "metadata": {},
   "outputs": [],
   "source": [
    "\n",
    "latent_dimensions = 1000\n",
    "device = 'mps'\n",
    "iterations = 2000\n",
    "learning_rate = 0.01\n",
    "batch_size = 64"
   ]
  },
  {
   "cell_type": "code",
   "execution_count": 75,
   "metadata": {},
   "outputs": [],
   "source": [
    "def tensor_to_set(tensor):\n",
    "    return  {tuple(d.tolist()) for d in tensor}"
   ]
  },
  {
   "cell_type": "code",
   "execution_count": 77,
   "metadata": {},
   "outputs": [
    {
     "name": "stdout",
     "output_type": "stream",
     "text": [
      "torch.Size([124, 24])\n"
     ]
    }
   ],
   "source": [
    "def get_batch(data):\n",
    "\tindexes = torch.randint(0, len(data), (batch_size,))\n",
    "\tbatch = set()\n",
    "\tset_data = tensor_to_set(data)\n",
    "\tc = 0\n",
    "\n",
    "\tfor i in indexes:\n",
    "\t\tidiom = data[i]\n",
    "\t\tbatch.add(tuple(idiom.tolist()))\n",
    "\n",
    "\t\tpossible_idioms = set_data.intersection(translation_clusters[tuple(idiom.tolist())])\n",
    "\n",
    "\t\tif possible_idioms == set():\n",
    "\t\t\tc+=1\n",
    "\t\t\tcontinue\n",
    "\n",
    "\t\trandom_cluster_mate = choice(list(possible_idioms))\n",
    "\t\tbatch.add(tuple(random_cluster_mate))\n",
    "\n",
    "\tbatch = [list(x) for x in list(batch)]\n",
    "\treturn torch.tensor(batch)\n",
    "\n",
    "print(get_batch(train).shape)\n"
   ]
  },
  {
   "cell_type": "code",
   "execution_count": 82,
   "metadata": {},
   "outputs": [],
   "source": [
    "def get_positive_sample(anchor, data):\n",
    "\tpossible_positive = translation_clusters[tuple(anchor.tolist())].intersection(tensor_to_set(data))\n",
    "\treturn torch.tensor(choice(list(possible_positive)))\n",
    "\n",
    "batch = get_batch(train)\n",
    "positive_sample = get_positive_sample(batch[0], batch)\n",
    "\n",
    "assert (positive_sample in batch) and (tuple(positive_sample.tolist()) in translation_clusters[tuple(batch[0].tolist())])"
   ]
  },
  {
   "cell_type": "code",
   "execution_count": 87,
   "metadata": {},
   "outputs": [],
   "source": [
    "def get_negative_sample(anchor, data):\n",
    "    possible_negative = tensor_to_set(data).difference(translation_clusters[tuple(anchor.tolist())])\n",
    "    return torch.tensor(choice(list(possible_negative)))\n",
    "\n",
    "negative_sample = get_negative_sample(batch[0], batch)\n",
    "\n",
    "assert (negative_sample in batch) and (negative_sample not in translation_clusters[tuple(batch[0].tolist())])"
   ]
  },
  {
   "cell_type": "code",
   "execution_count": 68,
   "metadata": {},
   "outputs": [],
   "source": [
    "class Model(nn.Module):\n",
    "\tdef __init__(self, pooling):\n",
    "\t\tsuper().__init__()\n",
    "\t\tself.pooling = pooling\n",
    "\t\tself.roberta = AutoModelForMaskedLM.from_pretrained('xlm-roberta-base')\n",
    "\t\tself.output_layer = nn.Linear(250002, latent_dimensions) \n",
    "\n",
    "\tdef forward(self, input):\n",
    "\t\tinput_ids = torch.LongTensor(input[\"input_ids\"])\n",
    "\t\tattention_mask = torch.LongTensor(torch.ones(max_length))\n",
    "\t\troberta_logits = self.roberta(input_ids=input_ids, attention_mask=attention_mask).logits[0]\n",
    "\t\tif self.pooling == 'average': pooled = torch.mean(roberta_logits, dim=0)\n",
    "\t\tvector_representation = self.output_layer(pooled)\n",
    "\t\t\n",
    "\t\treturn vector_representation"
   ]
  },
  {
   "cell_type": "code",
   "execution_count": 166,
   "metadata": {},
   "outputs": [],
   "source": [
    "model = Model(pooling='average')"
   ]
  },
  {
   "cell_type": "code",
   "execution_count": 189,
   "metadata": {},
   "outputs": [],
   "source": [
    "for _ in range(1):\n",
    "\tbatch = get_batch(train)\n",
    "\t\n",
    "\tfor data in batch:\n",
    "\t\tmodel(data)"
   ]
  }
 ],
 "metadata": {
  "kernelspec": {
   "display_name": "Python 3 (ipykernel)",
   "language": "python",
   "name": "python3"
  },
  "language_info": {
   "codemirror_mode": {
    "name": "ipython",
    "version": 3
   },
   "file_extension": ".py",
   "mimetype": "text/x-python",
   "name": "python",
   "nbconvert_exporter": "python",
   "pygments_lexer": "ipython3",
   "version": "3.11.2"
  },
  "orig_nbformat": 4
 },
 "nbformat": 4,
 "nbformat_minor": 2
}
